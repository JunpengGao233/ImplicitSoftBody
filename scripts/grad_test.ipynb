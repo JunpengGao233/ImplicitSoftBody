{
 "cells": [
  {
   "cell_type": "code",
   "execution_count": 32,
   "metadata": {},
   "outputs": [],
   "source": [
    "from typing import Any\n",
    "from functools import partial\n",
    "\n",
    "import torch\n",
    "from implicit_soft_body.network import MLP\n",
    "\n",
    "\n",
    "from implicit_soft_body.energy.spring import SpringEnergy\n",
    "from implicit_soft_body.robot_model import SpringRobot "
   ]
  },
  {
   "cell_type": "code",
   "execution_count": 33,
   "metadata": {},
   "outputs": [
    {
     "data": {
      "text/plain": [
       "<torch._C.Generator at 0x1194c2790>"
      ]
     },
     "execution_count": 33,
     "metadata": {},
     "output_type": "execute_result"
    }
   ],
   "source": [
    "robot = SpringRobot()\n",
    "\n",
    "# x2 = robot.forward(robot.x)\n",
    "num_epochs = 10\n",
    "num_frames = 1\n",
    "loss_history = []\n",
    "input_size = robot.x.shape[0]\n",
    "output_size = robot.l0.shape[0]\n",
    "torch.random.manual_seed(42)"
   ]
  },
  {
   "cell_type": "code",
   "execution_count": 35,
   "metadata": {},
   "outputs": [
    {
     "data": {
      "text/plain": [
       "tensor([-6.9518e-04, -3.0962e-05, -7.4236e+01, -7.9206e-03,  1.9997e-04,\n",
       "         1.1310e+00,  4.2307e-03, -2.4105e+02,  1.0372e-01, -1.2436e+00,\n",
       "         1.6191e-01,  5.8136e-03,  6.3982e-04, -5.8865e-01,  5.1514e+01,\n",
       "         2.1765e-02,  6.2401e+01,  5.7581e-02,  9.0945e-01])"
      ]
     },
     "execution_count": 35,
     "metadata": {},
     "output_type": "execute_result"
    }
   ],
   "source": [
    "x0 = robot.x.clone()\n",
    "v0 = robot.v.clone()\n",
    "x =  robot.x.clone().requires_grad_(True)\n",
    "# a = torch.randn_like(robot.l0).requires_grad_(True)\n",
    "network = MLP(input_size*4, output_size)\n",
    "a = network(torch.cat([x.flatten(), v0.flatten()], dim=0))\n",
    "E = robot.total_energy(x0, x, v0, a)\n",
    "E_x = torch.autograd.grad(E, x, create_graph=True)[0]\n",
    "f = E_x.flatten()\n",
    "z = torch.randn_like(f)\n",
    "network = MLP(input_size*4, output_size)\n",
    "zE_x = z @ f\n",
    "torch.autograd.grad(zE_x, a)[0]"
   ]
  },
  {
   "cell_type": "code",
   "execution_count": null,
   "metadata": {},
   "outputs": [],
   "source": []
  }
 ],
 "metadata": {
  "kernelspec": {
   "display_name": "base",
   "language": "python",
   "name": "python3"
  },
  "language_info": {
   "codemirror_mode": {
    "name": "ipython",
    "version": 3
   },
   "file_extension": ".py",
   "mimetype": "text/x-python",
   "name": "python",
   "nbconvert_exporter": "python",
   "pygments_lexer": "ipython3",
   "version": "3.9.17"
  }
 },
 "nbformat": 4,
 "nbformat_minor": 2
}
